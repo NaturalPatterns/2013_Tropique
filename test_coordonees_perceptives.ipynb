{
 "metadata": {
  "name": ""
 },
 "nbformat": 3,
 "nbformat_minor": 0,
 "worksheets": [
  {
   "cells": [
    {
     "cell_type": "code",
     "collapsed": false,
     "input": [
      "import numpy as np\n",
      "import matplotlib.pyplot as plt\n",
      "%matplotlib inline"
     ],
     "language": "python",
     "metadata": {},
     "outputs": [],
     "prompt_number": 1
    },
    {
     "cell_type": "code",
     "collapsed": false,
     "input": [
      "from parametres import VPs, volume, p, d_x, d_y, d_z, calibration, DEBUG\n",
      "from modele_dynamique import arcdistance, orientation, xyz2azel, rae2xyz"
     ],
     "language": "python",
     "metadata": {},
     "outputs": [
      {
       "output_type": "stream",
       "stream": "stdout",
       "text": [
        "DEBUG parametres , position croix:  [ 0.          3.76999998  1.37      ]\n"
       ]
      }
     ],
     "prompt_number": 2
    },
    {
     "cell_type": "code",
     "collapsed": false,
     "input": [
      "print xyz2azel.__doc__"
     ],
     "language": "python",
     "metadata": {},
     "outputs": [
      {
       "output_type": "stream",
       "stream": "stdout",
       "text": [
        "\n",
        "    renvoie le vecteur de coordonn\u00e9es perceptuelles en fonction des coordonn\u00e9es physiques\n",
        "\n",
        "    xyz = 3 x N x ...\n",
        "\n",
        "    Le vecteur OV d\u00e9signe le centre des coordonn\u00e9es sph\u00e9riques,\n",
        "    - O est la r\u00e9f\u00e9rence des coordonn\u00e9es cart\u00e9siennes et\n",
        "    - V les coordonn\u00e9es cartesiennes du centre (typiquement du videoprojecteur).\n",
        "\n",
        "    cf. https://en.wikipedia.org/wiki/Spherical_coordinates\n",
        "\n",
        "    \n"
       ]
      }
     ],
     "prompt_number": 3
    },
    {
     "cell_type": "markdown",
     "metadata": {},
     "source": [
      "Plotting function:"
     ]
    },
    {
     "cell_type": "code",
     "collapsed": false,
     "input": [
      "def plot_xyz2azel(motion, vp=VPs[0]):\n",
      "    \"\"\"\n",
      "    Let's define a function that displays for a particular motion \n",
      "    (a collection of poistions in the x, y, z space --- usually \n",
      "    continuous) the resulting spherical coordinates (wrt to vp).\n",
      "    \n",
      "    \"\"\"\n",
      "    fig = plt.figure(figsize=(18,10))\n",
      "    t = np.linspace(0, 1, motion.shape[1])[:, np.newaxis]*np.ones((1, motion.shape[2]))\n",
      "    rae_VC = xyz2azel(motion, np.array([vp['x'], \n",
      "                                        vp['y'], \n",
      "                                        vp['z']]))\n",
      "    #print rae_VC.shape\n",
      "    for i_ax, axe_perc in enumerate(['t', 'r', 'az', 'el']):\n",
      "        for j_ax, axe_xyz in enumerate(['x', 'y', 'z']):\n",
      "            #print i_ax, j_ax, 3*i_ax + j_ax\n",
      "            ax = fig.add_subplot(4, 3, 1 + 3*i_ax + j_ax)\n",
      "            if i_ax == 0:\n",
      "                #ax.plot(t, rae_VC[i_ax, :, :])\n",
      "                #print motion_x[j_ax, :, :].shape, t.shape\n",
      "                ax.plot(motion[j_ax, :, :], t)\n",
      "            else:\n",
      "                if axe_perc in [ 'az', 'el']: scale = 180./np.pi\n",
      "                else: scale = 1.\n",
      "                #print motion_x[j_ax, :, :].shape, rae_VC[i_ax-1, :, :].shape\n",
      "                ax.plot(motion[j_ax, :, :], rae_VC[i_ax-1, :, :]*scale)\n",
      "            ax.plot([vp[axe_xyz]], [0.], 'D')\n",
      "            ax.set_xlabel(axe_xyz)\n",
      "            ax.set_ylabel(axe_perc)\n",
      "    plt.show()\n",
      "    return rae_VC\n",
      "print plot_xyz2azel.__doc__"
     ],
     "language": "python",
     "metadata": {},
     "outputs": [
      {
       "output_type": "stream",
       "stream": "stdout",
       "text": [
        "\n",
        "    Let's define a function that displays for a particular motion \n",
        "    (a collection of poistions in the x, y, z space --- usually \n",
        "    continuous) the resulting spherical coordinates (wrt to vp).\n",
        "    \n",
        "    \n"
       ]
      }
     ],
     "prompt_number": 4
    },
    {
     "cell_type": "code",
     "collapsed": false,
     "input": [
      "vp = VPs[1]\n",
      "print vp"
     ],
     "language": "python",
     "metadata": {},
     "outputs": [
      {
       "output_type": "stream",
       "stream": "stdout",
       "text": [
        "{'cz': 1.36, 'cy': 4.0, 'cx': 11.057115384615384, 'pc_min': 0.001, 'address': '10.42.0.52', 'y': 4.0, 'x': 0.9428846153846154, 'pc_max': 1000000.0, 'z': 1.36, 'foc': 21.802535306060136}\n"
       ]
      }
     ],
     "prompt_number": 5
    },
    {
     "cell_type": "heading",
     "level": 2,
     "metadata": {},
     "source": [
      "Motion in depth"
     ]
    },
    {
     "cell_type": "markdown",
     "metadata": {},
     "source": [
      "Let's define N_player trajectories of N_t points, where players are distributed in the width (y) and move in the axis of the VP (x):"
     ]
    },
    {
     "cell_type": "code",
     "collapsed": false,
     "input": [
      "N_player, N_t = 10, 1000"
     ],
     "language": "python",
     "metadata": {},
     "outputs": [],
     "prompt_number": 6
    },
    {
     "cell_type": "code",
     "collapsed": false,
     "input": [
      "x = vp['x']*(np.linspace(0., 5., N_t)[np.newaxis, :, np.newaxis]*np.ones((1, 1, N_player)))\n",
      "y = vp['y']*np.ones((1, N_t, 1))*np.linspace(0, 2, N_player, endpoint=True)[np.newaxis, np.newaxis, :] \n",
      "z = vp['z']*np.ones((1, N_t, N_player)) # constant\n",
      "#print x.shape, y.shape, z.shape\n",
      "motion_x = np.vstack((x, y, z))\n",
      "motion_x += .01*np.random.randn(3, N_t, N_player)\n",
      "motion_x.shape\n",
      "rae_VC = plot_xyz2azel(motion_x, vp=vp)"
     ],
     "language": "python",
     "metadata": {},
     "outputs": [],
     "prompt_number": 7
    },
    {
     "cell_type": "markdown",
     "metadata": {},
     "source": [
      "Note the small elevation:"
     ]
    },
    {
     "cell_type": "code",
     "collapsed": false,
     "input": [
      "el = rae_VC[2,:,:]\n",
      "print el.min(), el.max(),  el.mean(),  el.std()"
     ],
     "language": "python",
     "metadata": {},
     "outputs": [],
     "prompt_number": 8
    },
    {
     "cell_type": "heading",
     "level": 2,
     "metadata": {},
     "source": [
      "Motion in width"
     ]
    },
    {
     "cell_type": "code",
     "collapsed": false,
     "input": [
      "x = vp['x']*np.ones((1, N_t, 1))*np.linspace(0., 2., N_player, endpoint=True)[np.newaxis, np.newaxis, :] \n",
      "y = vp['y']*(np.linspace(0, 2, N_t)[np.newaxis, :, np.newaxis]*np.ones((1, 1, N_player)))\n",
      "z = vp['z']*np.ones((1, N_t, N_player)) # constant\n",
      "motion_y = np.vstack((x, y, z))\n",
      "motion_y += .01*np.random.randn(3, N_t, N_player)\n",
      "rae_VC = plot_xyz2azel(motion_y, vp=vp)"
     ],
     "language": "python",
     "metadata": {},
     "outputs": [],
     "prompt_number": 9
    },
    {
     "cell_type": "heading",
     "level": 2,
     "metadata": {},
     "source": [
      "Motion in height"
     ]
    },
    {
     "cell_type": "code",
     "collapsed": false,
     "input": [
      "x = vp['x']*np.ones((1, N_t, 1))*np.linspace(0, 5., N_player, endpoint=True)[np.newaxis, np.newaxis, :] \n",
      "y = vp['y']*np.ones((1, N_t, N_player)) # constant\n",
      "z = vp['z']*(np.linspace(0, 2., N_t)[np.newaxis, :, np.newaxis]*np.ones((1, 1, N_player)))\n",
      "motion_z = np.vstack((x, y, z))\n",
      "motion_z += .01*np.random.randn(3, N_t, N_player)\n",
      "rae_VC = plot_xyz2azel(motion_z, vp=vp)"
     ],
     "language": "python",
     "metadata": {},
     "outputs": [],
     "prompt_number": 10
    },
    {
     "cell_type": "code",
     "collapsed": false,
     "input": [],
     "language": "python",
     "metadata": {},
     "outputs": [],
     "prompt_number": 10
    }
   ],
   "metadata": {}
  }
 ]
}