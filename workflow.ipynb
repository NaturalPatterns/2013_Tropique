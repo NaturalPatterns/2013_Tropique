{
 "metadata": {
  "name": ""
 },
 "nbformat": 3,
 "nbformat_minor": 0,
 "worksheets": [
  {
   "cells": [
    {
     "cell_type": "markdown",
     "metadata": {},
     "source": [
      "This notebook serves to edit and test basic properties of the model"
     ]
    },
    {
     "cell_type": "heading",
     "level": 2,
     "metadata": {},
     "source": [
      "Parameters"
     ]
    },
    {
     "cell_type": "code",
     "collapsed": false,
     "input": [
      "%pycat parametres.py"
     ],
     "language": "python",
     "metadata": {},
     "outputs": [],
     "prompt_number": 9
    },
    {
     "cell_type": "heading",
     "level": 2,
     "metadata": {},
     "source": [
      "The Code"
     ]
    },
    {
     "cell_type": "code",
     "collapsed": false,
     "input": [
      "%pycat modele_dynamique.py"
     ],
     "language": "python",
     "metadata": {},
     "outputs": [],
     "prompt_number": 3
    },
    {
     "cell_type": "heading",
     "level": 2,
     "metadata": {},
     "source": [
      "Testing basic functions"
     ]
    },
    {
     "cell_type": "code",
     "collapsed": false,
     "input": [
      "#_ = reload(modele_dynamique)\n",
      "import modele_dynamique"
     ],
     "language": "python",
     "metadata": {},
     "outputs": [],
     "prompt_number": 46
    },
    {
     "cell_type": "heading",
     "level": 2,
     "metadata": {},
     "source": [
      "Generating PDFs of notebooks"
     ]
    },
    {
     "cell_type": "code",
     "collapsed": false,
     "input": [
      "%%file Makefile\n",
      "default: workflow.pdf test_coordonees_perceptives.pdf  test_modele_dynamique.pdf\n",
      "\n",
      "todo:\n",
      "\tgrep -R * (^|#)[ ]*(TODO|FIXME|XXX|HINT|TIP)( |:)([^#]*)\n",
      "\n",
      "# macros for tests\n",
      "%.pdf: %.ipynb\n",
      "\tipython nbconvert --SphinxTransformer.author='Laurent Perrinet (INT, UMR7289)' --to latex --post PDF $<\n",
      "\n",
      "# cleaning macros\n",
      "touch:\n",
      "\ttouch *.ipynb\n",
      "\n",
      "clean:\n",
      "\trm -fr  *.tex test_modele_dynamique_files test_coordonees_perceptives_files workflow_files *.dvi *.ps *.out *.log *.aux *.bbl *.blg *.snm *.fls *.nav *.idx *.toc *.fff *.synctex.gz* *.fdb_latexmk\n",
      "\n",
      ".PHONY:  all clean"
     ],
     "language": "python",
     "metadata": {},
     "outputs": [
      {
       "output_type": "stream",
       "stream": "stdout",
       "text": [
        "Overwriting Makefile\n"
       ]
      }
     ],
     "prompt_number": 20
    },
    {
     "cell_type": "code",
     "collapsed": false,
     "input": [
      "!make touch\n",
      "!make clean\n",
      "#%run test_coordonees_perceptives.ipynb\n",
      "!make\n",
      "!make clean"
     ],
     "language": "python",
     "metadata": {},
     "outputs": [
      {
       "output_type": "stream",
       "stream": "stdout",
       "text": [
        "touch *.ipynb\r\n"
       ]
      },
      {
       "output_type": "stream",
       "stream": "stdout",
       "text": [
        "rm -fr  *.tex test_modele_dynamique_files test_coordonees_perceptives_files workflow_files *.dvi *.ps *.out *.log *.aux *.bbl *.blg *.snm *.fls *.nav *.idx *.toc *.fff *.synctex.gz* *.fdb_latexmk\r\n"
       ]
      },
      {
       "output_type": "stream",
       "stream": "stdout",
       "text": [
        "ipython nbconvert --SphinxTransformer.author='Laurent Perrinet (INT, UMR7289)' --to latex --post PDF workflow.ipynb\r\n"
       ]
      },
      {
       "output_type": "stream",
       "stream": "stdout",
       "text": [
        "[NbConvertApp] Using existing profile dir: u'/Users/lolo/.ipython/profile_default'\r\n",
        "[NbConvertApp] Converting notebook workflow.ipynb to latex\r\n",
        "[NbConvertApp] Support files will be in workflow_files/\r\n",
        "[NbConvertApp] Loaded template latex_article.tplx\r\n"
       ]
      },
      {
       "output_type": "stream",
       "stream": "stdout",
       "text": [
        "[NbConvertApp] Making directory workflow_files\r\n",
        "[NbConvertApp] Writing 49542 bytes to workflow.tex\r\n",
        "[NbConvertApp] Building PDF: ['pdflatex', 'workflow.tex']\r\n"
       ]
      }
     ],
     "prompt_number": "*"
    },
    {
     "cell_type": "heading",
     "level": 2,
     "metadata": {},
     "source": [
      "Version control"
     ]
    },
    {
     "cell_type": "code",
     "collapsed": false,
     "input": [
      "!hg st"
     ],
     "language": "python",
     "metadata": {},
     "outputs": [
      {
       "output_type": "stream",
       "stream": "stdout",
       "text": [
        "M Makefile\r\n",
        "M modele_dynamique.py\r\n",
        "M parametres.py\r\n",
        "M test_coordonees_perceptives.pdf\r\n",
        "M test_modele_dynamique.ipynb\r\n",
        "M test_modele_dynamique.pdf\r\n",
        "M workflow.ipynb\r\n",
        "! acquisition/server_kinect_10.py\r\n",
        "! acquisition/server_kinect_to20.py\r\n",
        "? .ipynb_checkpoints/test_coordonees_perceptives-checkpoint.ipynb\r\n",
        "? .ipynb_checkpoints/test_modele_dynamique-checkpoint.ipynb\r\n",
        "? .ipynb_checkpoints/workflow-checkpoint.ipynb\r\n",
        "? acquisition/client_kinect_old.py\r\n",
        "? acquisition/server_kinect (Copie en conflit de bioegene julien 2014-03-11).py\r\n",
        "? acquisition/server_kinect_old.py\r\n",
        "? acquisition/server_kinect_witout_init.py\r\n",
        "? acquisition/start_kinect_server_home.sh\r\n",
        "? ancien_parametre/parametres (Copie en conflit de bioegene julien 2014-03-11).py\r\n",
        "? ancien_parametre/parametres - avant-mons.py\r\n",
        "? ancien_parametre/parametres_vasyvasa.py\r\n",
        "? ancien_parametre/parametres_vp_egale_0.py\r\n",
        "? editing_the_model.pdf\r\n",
        "? editing_the_model.tex\r\n",
        "? modele_dynamique.py.copy\r\n",
        "? modele_dynamique.py.orig\r\n",
        "? start_log/start_all_kinect_server.sh\r\n",
        "? start_log/start_kinect_server\r\n",
        "? start_log/start_kinect_server_old.sh\r\n",
        "? test_coordonees_perceptives.tex\r\n",
        "? test_modele_dynamique.tex\r\n",
        "? workflow.pdf\r\n",
        "? workflow.tex\r\n"
       ]
      }
     ],
     "prompt_number": 19
    },
    {
     "cell_type": "code",
     "collapsed": false,
     "input": [
      "!hg rm editing_the_model.ipynb\n",
      "!hg add workflow.ipynb\n",
      "!hg diff modele_dynamique.py"
     ],
     "language": "python",
     "metadata": {},
     "outputs": [
      {
       "output_type": "stream",
       "stream": "stdout",
       "text": [
        "removing editing_the_model.ipynb\r\n"
       ]
      },
      {
       "output_type": "stream",
       "stream": "stdout",
       "text": [
        "adding workflow.ipynb\r\n"
       ]
      },
      {
       "output_type": "stream",
       "stream": "stdout",
       "text": [
        "diff -r 976d256c32b8 modele_dynamique.py\r\n",
        "--- a/modele_dynamique.py\tThu Feb 27 21:10:10 2014 +0100\r\n",
        "+++ b/modele_dynamique.py\tWed Mar 12 10:30:59 2014 +0100\r\n",
        "@@ -388,7 +388,7 @@\r\n",
        " \r\n",
        "         if self.scenario == 'croix':\r\n",
        "             longueur_segments_z = .8\r\n",
        "-            longueur_segments_y = 15.\r\n",
        "+            longueur_segments_y = 0.8\r\n",
        "             for i_VP, OV in enumerate(self.vps[:]):\r\n",
        "                 # ligne horizontale\r\n",
        "                 self.particles[0, i_VP*self.N:(i_VP*self.N+self.N/2)] = self.croix[0] # on the reference plane\r\n"
       ]
      }
     ],
     "prompt_number": 7
    },
    {
     "cell_type": "code",
     "collapsed": false,
     "input": [
      "!hg diff parametres.py"
     ],
     "language": "python",
     "metadata": {},
     "outputs": [
      {
       "output_type": "stream",
       "stream": "stdout",
       "text": [
        "diff -r 976d256c32b8 parametres.py\r\n",
        "--- a/parametres.py\tThu Feb 27 21:10:10 2014 +0100\r\n",
        "+++ b/parametres.py\tWed Mar 12 10:31:03 2014 +0100\r\n",
        "@@ -15,7 +15,7 @@\r\n",
        " Par convention, la position spatiale des VPs par rapport au centre du plan de reference\r\n",
        " - placement regulier en profondeur a equidistance du plan de ref (le long d'un mur)\r\n",
        " - placement regulier, le centre en premier\r\n",
        "-- on place les VPs vers 1m30 de haut\r\n",
        "+- on place les VPs \u00e0 1m36 de haut\r\n",
        " \r\n",
        " Par convention, la position de la croix est au centre de la salle: [d_x/2, d_y/2]\r\n",
        " \r\n",
        "@@ -28,10 +28,9 @@\r\n",
        " DEBUG  = False\r\n",
        " \r\n",
        " # taille de l'espace\r\n",
        "-d_y, d_z = 8.0, 4.\r\n",
        "-d_x = 11. # distance en metres du plan sur lequel se positionnent les fenetres des VPs\r\n",
        "-volume = np.array([d_x, d_y, d_z])\r\n",
        "-\r\n",
        "+d_y, d_z = 10.85, 6.\r\n",
        "+d_x = 10.38 # distance en metres du plan sur lequel se positionnent les fenetres des VPs\r\n",
        "+volume = np.array([d_x, d_y,d_z])\r\n",
        " # mesures au telemetre\r\n",
        " \r\n",
        " #largeur_ecran = 1.7 # ouvert \u00e0 fond\r\n",
        "@@ -60,23 +59,24 @@\r\n",
        " # distance des VPs du plan de reference\r\n",
        " # profondeur du plan de r\u00e9f\u00e9rence\r\n",
        " # les VPs sont positionn\u00e9s en rang (x constants) sur un cot\u00e9 de la salle (cx_0) ou l'autre de la salle (cx_1)\r\n",
        "-cx_0, cx_1 = 1. - x_shift, d_x + x_shift\r\n",
        "+#cx_0, cx_1 = 1. - x_shift, d_x + x_shift\r\n",
        "+cx_0, cx_1 = 1. - x_shift, d_x \r\n",
        " \r\n",
        " # tous les VPs regardent vers le VP central (positionn\u00e9 \u00e0 d_y /2) au fond oppos\u00e9\r\n",
        "-cy = d_y/2 # on regarde le centre du plan de reference\r\n",
        "+cy = (d_y/2) # on regarde le centre du plan de reference\r\n",
        " # une liste des video projs donnant:\r\n",
        " # leur adresse, port, leurs parametres physiques\r\n",
        " VPs = [\r\n",
        "-        {'address':'10.42.0.51',\r\n",
        "-            'x':cx_0, 'y':7.0, 'z': cz,\r\n",
        "+        {'address':'10.42.0.55',\r\n",
        "+            'x':0.55, 'y':1.69, 'z': cz,\r\n",
        "             'cx':cx_1, 'cy':cy, 'cz': cz,\r\n",
        "          'foc': foc, 'pc_min': pc_min, 'pc_max': pc_max},\r\n",
        "-        {'address':'10.42.0.52',\r\n",
        "-             'x':cx_0, 'y':4., 'z': cz,\r\n",
        "+        {'address':'10.42.0.56',\r\n",
        "+             'x':0.55, 'y':5.19, 'z': cz,\r\n",
        "              'cx':cx_1, 'cy':cy, 'cz': cz,\r\n",
        "              'foc': foc, 'pc_min': pc_min, 'pc_max': pc_max},\r\n",
        "-        {'address':'10.42.0.53',\r\n",
        "-             'x':cx_0, 'y':1.0, 'z': cz,\r\n",
        "+        {'address':'10.42.0.51',\r\n",
        "+             'x':0.55, 'y':8.69, 'z': cz,\r\n",
        "              'cx':cx_1, 'cy':cy, 'cz': cz,\r\n",
        "              'foc': foc, 'pc_min': pc_min, 'pc_max': pc_max},\r\n",
        "         #{'address':'10.42.0.54',\r\n",
        "@@ -92,10 +92,12 @@\r\n",
        "             #'cx':0, 'cy':cy, 'cz': cz,\r\n",
        "             #'foc': foc, 'pc_min': pc_min, 'pc_max': pc_max},\r\n",
        "         ]\r\n",
        "+        #Calibration Vis\u00e9e VP\r\n",
        " import numpy as np\r\n",
        " calibration = {\r\n",
        "         'center': np.array([d_x/2., d_y/2, VPs[0]['z']], dtype='f'), # central point of the room  / point focal, pour lequel on optimise kinect et VPs?\r\n",
        "-        'croix': np.array([0.0, 3.77, 1.37], dtype='f'), # central point of the room  / point focal, pour lequel on optimise kinect et VPs?\r\n",
        "+        # !!!!!!! ATTENTION POUR CROIX C'est invers\u00e9 on a d_y,d_x!!!!!!!\r\n",
        "+        'croix': np.array([10.8, 5.2, VPs[0]['z']], dtype='f'), # Vis\u00e9e Croix fond de salle = d_y ou milieu d_y/2\r\n",
        "         #'croix': np.array([6.65, 3.13, 1.36], dtype='f'), # definition de la position de la croix\r\n",
        " #        'croix': np.array([11.95, 2.2, 1.36], dtype='f'), # definition de la position de la croix\r\n",
        " #         'roger': np.array([10.91, 6.24, 1.37], dtype='f'), #  fixation dot  (AKA Roger?)\r\n",
        "@@ -158,17 +160,15 @@\r\n",
        " \t\t# on tourne les numeros de kinect dans le sens des aiguilles d'une montre en commencant par\r\n",
        "            #  le point (0, 0)- le point de vue (az) donne l'ordre dans une colonne de kinects(cf document \"notice\")\r\n",
        " \r\n",
        "-\t\t{'address':'10.42.0.12', 'port': 0, 'x':5.50, 'y':0.2, 'z': 1.14, 'az':3*pi/6 ,'max':200},#1.1\r\n",
        "-\t\t{'address':'10.42.0.12', 'port': 1, 'x':5.50, 'y':0.2, 'z': 1.34, 'az':1*pi/6 ,'max':500}, #1.2\r\n",
        "- \t\t{'address':'10.42.0.13', 'port': 0, 'x':5.0, 'y':0.2, 'z': 1.24, 'az':5*pi/6 ,'max':500},#1.3\r\n",
        "-# \t\t{'address':'10.42.0.13', 'port': 1, 'x':8.2, 'y':0.2, 'z': 1.24, 'az':3*pi/6 ,'max':500},#1.3\r\n",
        "+\t\t{'address':'10.42.0.12', 'port': 0, 'x':4.10, 'y':0.5, 'z': 1.14, 'az':3*pi/6 ,'max':600},#1.1\r\n",
        "+\t\t{'address':'10.42.0.12', 'port': 1, 'x':4.10, 'y':0.5, 'z': 1.34, 'az':1*pi/6 ,'max':600}, #1.2\r\n",
        "+ \t\t{'address':'10.42.0.13', 'port': 0, 'x':4.10, 'y':0.5, 'z': 1.24, 'az':5*pi/6 ,'max':300},#1.3\r\n",
        "+ \t\t{'address':'10.42.0.13', 'port': 1, 'x':7.2, 'y':0.3, 'z': 1.24, 'az':3*pi/6 ,'max':600},#1.3\r\n",
        " \r\n",
        "-\t\t{'address':'10.42.0.19', 'port': 0, 'x':5.5, 'y':7.0, 'z': 1.24, 'az':7*pi/6 ,'max':555},#1.1\r\n",
        "-\t\t{'address':'10.42.0.18', 'port': 1, 'x':5.50, 'y':7.0, 'z': 1.14, 'az':9*pi/6 ,'max':500}, #1.2\r\n",
        "-\t\t{'address':'10.42.0.18', 'port': 0, 'x':5.50, 'y':7.0,  'z': 1.24, 'az':11*pi/6 ,'max':500},#1.3\r\n",
        "-  \t\t{'address':'10.42.0.19', 'port': 1, 'x':10.8, 'y':0.50, 'z': 1.24, 'az':3*pi/6 ,'max':400},#1.3\r\n",
        "-\r\n",
        "-\r\n",
        "+\t\t{'address':'10.42.0.14', 'port': 0, 'x':5.7, 'y':10.00, 'z': 1.24, 'az':9*pi/6 ,'max':555},#1.1\r\n",
        "+\t\t{'address':'10.42.0.14', 'port': 1, 'x':5.70, 'y':10.00, 'z': 1.14, 'az':7*pi/6 ,'max':300}, #1.2\r\n",
        "+\t\t{'address':'10.42.0.15', 'port': 0, 'x':5.70, 'y':10.00,  'z': 1.24, 'az':11*pi/6 ,'max':450},#1.3\r\n",
        "+  \t\t{'address':'10.42.0.15', 'port': 1, 'x':2.55, 'y':10.00, 'z': 1.24, 'az':9*pi/6 ,'max':400},#1.3\r\n",
        " \r\n",
        " \t\t]\r\n",
        " \r\n",
        "@@ -231,4 +231,4 @@\r\n",
        " #    print sys.argv[0], str(sys.argv[1]), sys.argv[2] # nom du fichier, param1 , param2\r\n",
        "     import display_modele_dynamique\r\n",
        "     #sys.path.append('network')\r\n",
        "-    #import modele_dynamique_server\r\n",
        "\\ No newline at end of file\r\n",
        "+    #import modele_dynamique_server\r\n"
       ]
      }
     ],
     "prompt_number": 8
    },
    {
     "cell_type": "code",
     "collapsed": false,
     "input": [
      "!hg ci -m' preparing Mons '\n",
      "!hg push"
     ],
     "language": "python",
     "metadata": {},
     "outputs": [
      {
       "output_type": "stream",
       "stream": "stdout",
       "text": [
        "acquisition/carto_gl.py\r\n",
        "acquisition/carto_no_gl.py\r\n"
       ]
      },
      {
       "output_type": "stream",
       "stream": "stdout",
       "text": [
        "acquisition/client_kinect.py\r\n",
        "acquisition/server_kinect.py\r\n",
        "modele_dynamique.py\r\n",
        "parametres.py\r\n",
        "start_log/start_kinect_server.sh\r\n"
       ]
      },
      {
       "output_type": "stream",
       "stream": "stdout",
       "text": [
        "test_coordonees_perceptives.ipynb\r\n"
       ]
      },
      {
       "output_type": "stream",
       "stream": "stdout",
       "text": [
        "test_coordonees_perceptives.pdf\r\n",
        "test_modele_dynamique.ipynb\r\n"
       ]
      },
      {
       "output_type": "stream",
       "stream": "stdout",
       "text": [
        "test_modele_dynamique.pdf\r\n"
       ]
      },
      {
       "output_type": "stream",
       "stream": "stdout",
       "text": [
        "workflow.ipynb\r\n",
        "committed changeset 293:947fd14af634\r\n"
       ]
      },
      {
       "output_type": "stream",
       "stream": "stdout",
       "text": [
        "pushing to https://meduz@bitbucket.org/meduz/pytropique\r\n"
       ]
      },
      {
       "output_type": "stream",
       "stream": "stdout",
       "text": [
        "abort: certificate for bitbucket.org has unexpected fingerprint 67:b3:bf:9f:c5:38:0e:4c:dd:4e:8a:da:3d:11:1b:c2:a5:d1:6c:6b\r\n",
        "(check hostfingerprint configuration)\r\n"
       ]
      }
     ],
     "prompt_number": 12
    },
    {
     "cell_type": "heading",
     "level": 2,
     "metadata": {},
     "source": [
      "More details"
     ]
    },
    {
     "cell_type": "markdown",
     "metadata": {},
     "source": [
      "ipython's connection info"
     ]
    },
    {
     "cell_type": "code",
     "collapsed": false,
     "input": [],
     "language": "python",
     "metadata": {},
     "outputs": [],
     "prompt_number": 49
    },
    {
     "cell_type": "code",
     "collapsed": false,
     "input": [
      "%connect_info\n"
     ],
     "language": "python",
     "metadata": {},
     "outputs": [
      {
       "output_type": "stream",
       "stream": "stdout",
       "text": [
        "{\n",
        "  \"stdin_port\": 65282, \n",
        "  \"ip\": \"127.0.0.1\", \n",
        "  \"control_port\": 65283, \n",
        "  \"hb_port\": 65284, \n",
        "  \"signature_scheme\": \"hmac-sha256\", \n",
        "  \"key\": \"281addb5-951f-4e1b-9d05-cfcf5fafe9e1\", \n",
        "  \"shell_port\": 65280, \n",
        "  \"transport\": \"tcp\", \n",
        "  \"iopub_port\": 65281\n",
        "}\n",
        "\n",
        "Paste the above JSON into a file, and connect with:\n",
        "    $> ipython <app> --existing <file>\n",
        "or, if you are local, you can connect with just:\n",
        "    $> ipython <app> --existing kernel-3af4a1b2-cb66-4cab-a53a-b948195de290.json \n",
        "or even just:\n",
        "    $> ipython <app> --existing \n",
        "if this is the most recent IPython session you have started.\n"
       ]
      }
     ],
     "prompt_number": 50
    },
    {
     "cell_type": "code",
     "collapsed": false,
     "input": [
      "from IPython.parallel import Client\n",
      "client = Client()\n",
      "queue = client.direct_view()\n",
      "print \"Available workers: \", len(queue)\n",
      "v = client[:]"
     ],
     "language": "python",
     "metadata": {},
     "outputs": [
      {
       "output_type": "stream",
       "stream": "stdout",
       "text": [
        "Available workers:  8\n"
       ]
      }
     ],
     "prompt_number": 93
    },
    {
     "cell_type": "code",
     "collapsed": false,
     "input": [
      "from parametres import sliders, VPs, volume, p, kinects_network_config, d_x, d_y, d_z, scenario, calibration, DEBUG\n",
      "from modele_dynamique import Scenario, xyz2azel\n",
      "\n",
      "s = Scenario(p['N'], scenario, volume, [VPs[0]], p, calibration)\n",
      "%timeit s.do_scenario(positions=np.random.rand(8, 3))\n"
     ],
     "language": "python",
     "metadata": {},
     "outputs": [
      {
       "output_type": "stream",
       "stream": "stdout",
       "text": [
        "100 loops, best of 3: 6.08 ms per loop\n"
       ]
      }
     ],
     "prompt_number": 94
    },
    {
     "cell_type": "code",
     "collapsed": false,
     "input": [
      "with v.sync_imports(): import numpy"
     ],
     "language": "python",
     "metadata": {},
     "outputs": [
      {
       "output_type": "stream",
       "stream": "stdout",
       "text": [
        "importing numpy on engine(s)\n"
       ]
      }
     ],
     "prompt_number": 95
    },
    {
     "cell_type": "code",
     "collapsed": false,
     "input": [
      "%px print 'hi, number', numpy.pi"
     ],
     "language": "python",
     "metadata": {},
     "outputs": [
      {
       "output_type": "stream",
       "stream": "stdout",
       "text": [
        "[stdout:0] hi, number 3.14159265359\n",
        "[stdout:1] hi, number 3.14159265359\n",
        "[stdout:2] hi, number 3.14159265359\n",
        "[stdout:3] hi, number 3.14159265359\n",
        "[stdout:4] hi, number 3.14159265359\n",
        "[stdout:5] hi, number 3.14159265359\n",
        "[stdout:6] hi, number 3.14159265359\n",
        "[stdout:7] hi, number 3.14159265359\n"
       ]
      }
     ],
     "prompt_number": 96
    },
    {
     "cell_type": "code",
     "collapsed": false,
     "input": [
      "def simulpos(s, t, players):\n",
      "    positions = []\n",
      "    for player in players:\n",
      "        positions.append([player['center'][0] + player['amp'][0]*np.cos(2*np.pi*t/player['T']), \n",
      "                          player['center'][1] + player['amp'][1]*np.cos(2*np.pi*t/player['T']),\n",
      "                          player['center'][2] + player['amp'][2]*np.cos(2*np.pi*t/player['T'])])   \n",
      "    return positions\n",
      "\n",
      "def simul(p, players = [{'center': [6., 6, 1.5], 'amp': [.3,1.,.1] , 'T': 5.}], \n",
      "          dt=.013, t_stop=40., s_VP = 1):\n",
      "    time = np.arange(0., t_stop, dt)\n",
      "    N_time = len(time)\n",
      "    n_players = len(players)\n",
      "    positions_ = np.zeros((3, n_players, N_time))\n",
      "    particles = np.zeros((6, p['N'], N_time))\n",
      "    s = Scenario(p['N'], scenario, volume, [VPs[s_VP]], p, calibration)\n",
      "    for i_t, t in enumerate(time):\n",
      "        positions = simulpos(s, t, players)\n",
      "        positions_[:, :, i_t] = np.array(positions).T\n",
      "        s.do_scenario(positions=positions, dt=dt)\n",
      "        #print p['N'], VPs, particles[:, :, i_t].shape, s.particles[0:6, s_VP*s.N:(s_VP+1)*s.N].shape, s.particles.shape, s.N\n",
      "        particles[:, :, i_t] = s.particles[0:6, :]\n",
      "\n",
      "positions_, particles = simul(p)"
     ],
     "language": "python",
     "metadata": {},
     "outputs": [
      {
       "ename": "TypeError",
       "evalue": "'NoneType' object is not iterable",
       "output_type": "pyerr",
       "traceback": [
        "\u001b[0;31m---------------------------------------------------------------------------\u001b[0m\n\u001b[0;31mTypeError\u001b[0m                                 Traceback (most recent call last)",
        "\u001b[0;32m<ipython-input-98-8151bd67ddf9>\u001b[0m in \u001b[0;36m<module>\u001b[0;34m()\u001b[0m\n\u001b[1;32m     22\u001b[0m         \u001b[0mparticles\u001b[0m\u001b[0;34m[\u001b[0m\u001b[0;34m:\u001b[0m\u001b[0;34m,\u001b[0m \u001b[0;34m:\u001b[0m\u001b[0;34m,\u001b[0m \u001b[0mi_t\u001b[0m\u001b[0;34m]\u001b[0m \u001b[0;34m=\u001b[0m \u001b[0ms\u001b[0m\u001b[0;34m.\u001b[0m\u001b[0mparticles\u001b[0m\u001b[0;34m[\u001b[0m\u001b[0;36m0\u001b[0m\u001b[0;34m:\u001b[0m\u001b[0;36m6\u001b[0m\u001b[0;34m,\u001b[0m \u001b[0;34m:\u001b[0m\u001b[0;34m]\u001b[0m\u001b[0;34m\u001b[0m\u001b[0m\n\u001b[1;32m     23\u001b[0m \u001b[0;34m\u001b[0m\u001b[0m\n\u001b[0;32m---> 24\u001b[0;31m \u001b[0mpositions_\u001b[0m\u001b[0;34m,\u001b[0m \u001b[0mparticles\u001b[0m \u001b[0;34m=\u001b[0m \u001b[0msimul\u001b[0m\u001b[0;34m(\u001b[0m\u001b[0mp\u001b[0m\u001b[0;34m)\u001b[0m\u001b[0;34m\u001b[0m\u001b[0m\n\u001b[0m",
        "\u001b[0;31mTypeError\u001b[0m: 'NoneType' object is not iterable"
       ]
      }
     ],
     "prompt_number": 98
    },
    {
     "cell_type": "code",
     "collapsed": false,
     "input": [
      "v.scatter('x',range(64))\n",
      "%px y = [i**10 for i in x]"
     ],
     "language": "python",
     "metadata": {},
     "outputs": [],
     "prompt_number": 99
    },
    {
     "cell_type": "code",
     "collapsed": false,
     "input": [
      "y = v.gather('y')\n",
      "print y"
     ],
     "language": "python",
     "metadata": {},
     "outputs": [
      {
       "output_type": "stream",
       "stream": "stdout",
       "text": [
        "<AsyncMapResult: gather>\n"
       ]
      }
     ],
     "prompt_number": 100
    },
    {
     "cell_type": "code",
     "collapsed": false,
     "input": [
      "y\n"
     ],
     "language": "python",
     "metadata": {},
     "outputs": [
      {
       "metadata": {},
       "output_type": "pyout",
       "prompt_number": 101,
       "text": [
        "<AsyncMapResult: gather>"
       ]
      }
     ],
     "prompt_number": 101
    },
    {
     "cell_type": "code",
     "collapsed": false,
     "input": [],
     "language": "python",
     "metadata": {},
     "outputs": []
    }
   ],
   "metadata": {}
  }
 ]
}