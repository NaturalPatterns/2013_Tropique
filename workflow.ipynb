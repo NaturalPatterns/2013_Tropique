{
 "metadata": {
  "name": ""
 },
 "nbformat": 3,
 "nbformat_minor": 0,
 "worksheets": [
  {
   "cells": [
    {
     "cell_type": "markdown",
     "metadata": {},
     "source": [
      "This notebook serves to edit and test basic properties of the model"
     ]
    },
    {
     "cell_type": "heading",
     "level": 2,
     "metadata": {},
     "source": [
      "Parameters"
     ]
    },
    {
     "cell_type": "code",
     "collapsed": false,
     "input": [
      "#%pycat parametres.py"
     ],
     "language": "python",
     "metadata": {},
     "outputs": [],
     "prompt_number": 1
    },
    {
     "cell_type": "heading",
     "level": 2,
     "metadata": {},
     "source": [
      "The Code"
     ]
    },
    {
     "cell_type": "code",
     "collapsed": false,
     "input": [
      "#%pycat modele_dynamique.py"
     ],
     "language": "python",
     "metadata": {},
     "outputs": [],
     "prompt_number": 2
    },
    {
     "cell_type": "heading",
     "level": 2,
     "metadata": {},
     "source": [
      "Testing basic functions"
     ]
    },
    {
     "cell_type": "code",
     "collapsed": false,
     "input": [
      "#_ = reload(modele_dynamique)\n",
      "import modele_dynamique"
     ],
     "language": "python",
     "metadata": {},
     "outputs": [
      {
       "output_type": "stream",
       "stream": "stdout",
       "text": [
        "DEBUG parametres , position croix:  [ 10.85000038   5.19000006   1.36000001]\n"
       ]
      }
     ],
     "prompt_number": 3
    },
    {
     "cell_type": "heading",
     "level": 2,
     "metadata": {},
     "source": [
      "Generating PDFs of notebooks"
     ]
    },
    {
     "cell_type": "code",
     "collapsed": false,
     "input": [
      "%%file Makefile\n",
      "default: workflow.pdf test_coordonees_perceptives.pdf  test_modele_dynamique.pdf\n",
      "\n",
      "todo:\n",
      "\tgrep -R * (^|#)[ ]*(TODO|FIXME|XXX|HINT|TIP)( |:)([^#]*)\n",
      "\n",
      "# macros for tests\n",
      "%.pdf: %.ipynb\n",
      "\tipython nbconvert --SphinxTransformer.author='Laurent Perrinet (INT, UMR7289)' --to latex --post PDF $<\n",
      "\n",
      "# cleaning macros\n",
      "touch:\n",
      "\ttouch *.ipynb\n",
      "\n",
      "clean:\n",
      "\trm -fr  *.tex test_modele_dynamique_files test_coordonees_perceptives_files workflow_files *.dvi *.ps *.out *.log *.aux *.bbl *.blg *.snm *.fls *.nav *.idx *.toc *.fff *.synctex.gz* *.fdb_latexmk\n",
      "\n",
      ".PHONY:  all clean"
     ],
     "language": "python",
     "metadata": {},
     "outputs": [
      {
       "output_type": "stream",
       "stream": "stdout",
       "text": [
        "Overwriting Makefile\n"
       ]
      }
     ],
     "prompt_number": 4
    },
    {
     "cell_type": "code",
     "collapsed": false,
     "input": [
      "!make touch\n",
      "!make clean\n",
      "#%run test_coordonees_perceptives.ipynb\n",
      "!make\n",
      "!make clean"
     ],
     "language": "python",
     "metadata": {},
     "outputs": [
      {
       "output_type": "stream",
       "stream": "stdout",
       "text": [
        "touch *.ipynb\r\n"
       ]
      },
      {
       "output_type": "stream",
       "stream": "stdout",
       "text": [
        "rm -fr  *.tex test_modele_dynamique_files test_coordonees_perceptives_files workflow_files *.dvi *.ps *.out *.log *.aux *.bbl *.blg *.snm *.fls *.nav *.idx *.toc *.fff *.synctex.gz* *.fdb_latexmk\r\n"
       ]
      },
      {
       "output_type": "stream",
       "stream": "stdout",
       "text": [
        "ipython nbconvert --SphinxTransformer.author='Laurent Perrinet (INT, UMR7289)' --to latex --post PDF workflow.ipynb\r\n"
       ]
      },
      {
       "output_type": "stream",
       "stream": "stdout",
       "text": [
        "[NbConvertApp] Using existing profile dir: u'/Users/foo/.ipython/profile_default'\r\n",
        "[NbConvertApp] Converting notebook workflow.ipynb to latex\r\n",
        "[NbConvertApp] Support files will be in workflow_files/\r\n"
       ]
      },
      {
       "output_type": "stream",
       "stream": "stdout",
       "text": [
        "[NbConvertApp] Loaded template latex_article.tplx\r\n"
       ]
      },
      {
       "output_type": "stream",
       "stream": "stdout",
       "text": [
        "[NbConvertApp] Making directory workflow_files\r\n",
        "[NbConvertApp] Writing 42821 bytes to workflow.tex\r\n",
        "[NbConvertApp] Building PDF: ['pdflatex', 'workflow.tex']\r\n"
       ]
      },
      {
       "output_type": "stream",
       "stream": "stdout",
       "text": [
        "ipython nbconvert --SphinxTransformer.author='Laurent Perrinet (INT, UMR7289)' --to latex --post PDF test_coordonees_perceptives.ipynb\r\n"
       ]
      },
      {
       "output_type": "stream",
       "stream": "stdout",
       "text": [
        "[NbConvertApp] Using existing profile dir: u'/Users/foo/.ipython/profile_default'\r\n",
        "[NbConvertApp] Converting notebook test_coordonees_perceptives.ipynb to latex\r\n",
        "[NbConvertApp] Support files will be in test_coordonees_perceptives_files/\r\n"
       ]
      },
      {
       "output_type": "stream",
       "stream": "stdout",
       "text": [
        "[NbConvertApp] Loaded template latex_article.tplx\r\n"
       ]
      },
      {
       "output_type": "stream",
       "stream": "stdout",
       "text": [
        "[NbConvertApp] Making directory test_coordonees_perceptives_files\r\n",
        "[NbConvertApp] Writing 53116 bytes to test_coordonees_perceptives.tex\r\n",
        "[NbConvertApp] Building PDF: ['pdflatex', 'test_coordonees_perceptives.tex']\r\n"
       ]
      },
      {
       "output_type": "stream",
       "stream": "stdout",
       "text": [
        "ipython nbconvert --SphinxTransformer.author='Laurent Perrinet (INT, UMR7289)' --to latex --post PDF test_modele_dynamique.ipynb\r\n"
       ]
      },
      {
       "output_type": "stream",
       "stream": "stdout",
       "text": [
        "[NbConvertApp] Using existing profile dir: u'/Users/foo/.ipython/profile_default'\r\n",
        "[NbConvertApp] Converting notebook test_modele_dynamique.ipynb to latex\r\n",
        "[NbConvertApp] Support files will be in test_modele_dynamique_files/\r\n"
       ]
      },
      {
       "output_type": "stream",
       "stream": "stdout",
       "text": [
        "[NbConvertApp] Loaded template latex_article.tplx\r\n"
       ]
      },
      {
       "output_type": "stream",
       "stream": "stdout",
       "text": [
        "[NbConvertApp] Making directory test_modele_dynamique_files\r\n"
       ]
      },
      {
       "output_type": "stream",
       "stream": "stdout",
       "text": [
        "[NbConvertApp] Writing 97406 bytes to test_modele_dynamique.tex\r\n",
        "[NbConvertApp] Building PDF: ['pdflatex', 'test_modele_dynamique.tex']\r\n"
       ]
      },
      {
       "output_type": "stream",
       "stream": "stdout",
       "text": [
        "rm -fr  *.tex test_modele_dynamique_files test_coordonees_perceptives_files workflow_files *.dvi *.ps *.out *.log *.aux *.bbl *.blg *.snm *.fls *.nav *.idx *.toc *.fff *.synctex.gz* *.fdb_latexmk\r\n"
       ]
      }
     ],
     "prompt_number": 5
    },
    {
     "cell_type": "heading",
     "level": 2,
     "metadata": {},
     "source": [
      "Version control"
     ]
    },
    {
     "cell_type": "code",
     "collapsed": false,
     "input": [
      "!hg st"
     ],
     "language": "python",
     "metadata": {},
     "outputs": [
      {
       "output_type": "stream",
       "stream": "stdout",
       "text": [
        "M modele_dynamique.py\r\n",
        "M test_coordonees_perceptives.ipynb\r\n",
        "M test_coordonees_perceptives.pdf\r\n",
        "M test_modele_dynamique.ipynb\r\n",
        "M test_modele_dynamique.pdf\r\n",
        "M workflow.ipynb\r\n",
        "! acquisition/client_kinect_new.py\r\n",
        "! acquisition/server_kinect_10.py\r\n",
        "! acquisition/server_kinect_new.py\r\n",
        "! acquisition/server_kinect_to20.py\r\n",
        "! start_log/start_kinect_server.sh\r\n",
        "! start_log/start_kinect_server_home.sh\r\n",
        "! start_log/start_kinect_server_infini.sh\r\n",
        "? .ipynb_checkpoints/test_coordonees_perceptives-checkpoint.ipynb\r\n",
        "? .ipynb_checkpoints/test_modele_dynamique-checkpoint.ipynb\r\n",
        "? .ipynb_checkpoints/workflow-checkpoint.ipynb\r\n",
        "? acquisition/calibration_kinect.py\r\n",
        "? ancien_parametre/parametres (Copie en conflit de bioegene julien 2014-03-11).py\r\n",
        "? ancien_parametre/parametres - avant-mons.py\r\n",
        "? ancien_parametre/parametres_vasyvasa.py\r\n",
        "? ancien_parametre/parametres_vp_egale_0.py\r\n",
        "? modele_dynamique (Copie en conflit de Laurent Perrinet).py\r\n",
        "? modele_dynamique.py.copy\r\n",
        "? modele_dynamique.py.orig\r\n",
        "? start_log/start_all_kinect_server.sh\r\n",
        "? start_log/start_kinect_server\r\n",
        "? start_log/start_mac_all_server_kinect.command\r\n",
        "? workflow.pdf\r\n"
       ]
      }
     ],
     "prompt_number": 1
    },
    {
     "cell_type": "code",
     "collapsed": false,
     "input": [
      "!hg diff modele_dynamique.py"
     ],
     "language": "python",
     "metadata": {},
     "outputs": [
      {
       "output_type": "stream",
       "stream": "stdout",
       "text": [
        "diff -r ce2d52371488 modele_dynamique.py\r\n",
        "--- a/modele_dynamique.py\tWed Mar 12 21:42:27 2014 +0100\r\n",
        "+++ b/modele_dynamique.py\tWed Mar 12 22:00:37 2014 +0100\r\n",
        "@@ -68,9 +68,8 @@\r\n",
        "     if (rae.ndim > 1): OV = OV[:, np.newaxis]\r\n",
        "     if (rae.ndim > 2): OV = OV[:, np.newaxis]\r\n",
        "     rae[0, ...] = np.sqrt(np.sum((xyz - OV)**2, axis=0))\r\n",
        "-#     rae[1, ...] = np.arctan2((xyz[1, ...] - OV[1, ...]), (xyz[0, ...] - OV[0, ...]))\r\n",
        "     rae[1, ...] = np.arctan2(xyz[1, ...] - OV[1, ...], xyz[0, ...] - OV[0, ...])\r\n",
        "-#     rae[2, ...] = np.arctan2(xyz[2, ...] - OV[2], rae[0, ...])\r\n",
        "+#     rae[2, ...] = np.arctan2(xyz[2, ...] - OV[2, ...], rae[0, ...])\r\n",
        "     rae[2, ...] = np.arcsin((xyz[2, ...] - OV[2, ...])/(rae[0, ...] + eps))\r\n",
        "     return rae\r\n",
        " \r\n"
       ]
      }
     ],
     "prompt_number": 7
    },
    {
     "cell_type": "code",
     "collapsed": false,
     "input": [
      "!hg diff parametres.py"
     ],
     "language": "python",
     "metadata": {},
     "outputs": [],
     "prompt_number": 8
    },
    {
     "cell_type": "code",
     "collapsed": false,
     "input": [
      "!hg ci -m' preparing Mons: fixing angles '\n",
      "!hg push"
     ],
     "language": "python",
     "metadata": {},
     "outputs": [
      {
       "output_type": "stream",
       "stream": "stdout",
       "text": [
        "parametres.py\r\n",
        "start_log/start_kinect_server.sh\r\n",
        "start_log/start_kinect_server_home.sh\r\n",
        "start_log/start_kinect_server_infini.sh\r\n",
        "test_coordonees_perceptives.pdf\r\n",
        "test_modele_dynamique.ipynb\r\n"
       ]
      },
      {
       "output_type": "stream",
       "stream": "stdout",
       "text": [
        "test_modele_dynamique.pdf\r\n"
       ]
      },
      {
       "output_type": "stream",
       "stream": "stdout",
       "text": [
        "workflow.ipynb\r\n",
        "committed changeset 296:ae2f49b91ba2\r\n"
       ]
      },
      {
       "output_type": "stream",
       "stream": "stdout",
       "text": [
        "pushing to https://meduz@bitbucket.org/meduz/pytropique\r\n"
       ]
      },
      {
       "output_type": "stream",
       "stream": "stdout",
       "text": [
        "searching for changes\r\n"
       ]
      },
      {
       "output_type": "stream",
       "stream": "stdout",
       "text": [
        "1 changesets found\r\n"
       ]
      }
     ],
     "prompt_number": "*"
    },
    {
     "cell_type": "heading",
     "level": 2,
     "metadata": {},
     "source": [
      "More details"
     ]
    },
    {
     "cell_type": "markdown",
     "metadata": {},
     "source": [
      "ipython's connection info"
     ]
    },
    {
     "cell_type": "code",
     "collapsed": false,
     "input": [],
     "language": "python",
     "metadata": {},
     "outputs": [],
     "prompt_number": 49
    },
    {
     "cell_type": "code",
     "collapsed": false,
     "input": [
      "%connect_info\n"
     ],
     "language": "python",
     "metadata": {},
     "outputs": [
      {
       "output_type": "stream",
       "stream": "stdout",
       "text": [
        "{\n",
        "  \"stdin_port\": 65282, \n",
        "  \"ip\": \"127.0.0.1\", \n",
        "  \"control_port\": 65283, \n",
        "  \"hb_port\": 65284, \n",
        "  \"signature_scheme\": \"hmac-sha256\", \n",
        "  \"key\": \"281addb5-951f-4e1b-9d05-cfcf5fafe9e1\", \n",
        "  \"shell_port\": 65280, \n",
        "  \"transport\": \"tcp\", \n",
        "  \"iopub_port\": 65281\n",
        "}\n",
        "\n",
        "Paste the above JSON into a file, and connect with:\n",
        "    $> ipython <app> --existing <file>\n",
        "or, if you are local, you can connect with just:\n",
        "    $> ipython <app> --existing kernel-3af4a1b2-cb66-4cab-a53a-b948195de290.json \n",
        "or even just:\n",
        "    $> ipython <app> --existing \n",
        "if this is the most recent IPython session you have started.\n"
       ]
      }
     ],
     "prompt_number": 50
    },
    {
     "cell_type": "code",
     "collapsed": false,
     "input": [
      "from IPython.parallel import Client\n",
      "client = Client()\n",
      "queue = client.direct_view()\n",
      "print \"Available workers: \", len(queue)\n",
      "v = client[:]"
     ],
     "language": "python",
     "metadata": {},
     "outputs": [
      {
       "output_type": "stream",
       "stream": "stdout",
       "text": [
        "Available workers:  8\n"
       ]
      }
     ],
     "prompt_number": 93
    },
    {
     "cell_type": "code",
     "collapsed": false,
     "input": [
      "from parametres import sliders, VPs, volume, p, kinects_network_config, d_x, d_y, d_z, scenario, calibration, DEBUG\n",
      "from modele_dynamique import Scenario, xyz2azel\n",
      "\n",
      "s = Scenario(p['N'], scenario, volume, [VPs[0]], p, calibration)\n",
      "%timeit s.do_scenario(positions=np.random.rand(8, 3))\n"
     ],
     "language": "python",
     "metadata": {},
     "outputs": [
      {
       "output_type": "stream",
       "stream": "stdout",
       "text": [
        "100 loops, best of 3: 6.08 ms per loop\n"
       ]
      }
     ],
     "prompt_number": 94
    },
    {
     "cell_type": "code",
     "collapsed": false,
     "input": [
      "with v.sync_imports(): import numpy"
     ],
     "language": "python",
     "metadata": {},
     "outputs": [
      {
       "output_type": "stream",
       "stream": "stdout",
       "text": [
        "importing numpy on engine(s)\n"
       ]
      }
     ],
     "prompt_number": 95
    },
    {
     "cell_type": "code",
     "collapsed": false,
     "input": [
      "%px print 'hi, number', numpy.pi"
     ],
     "language": "python",
     "metadata": {},
     "outputs": [
      {
       "output_type": "stream",
       "stream": "stdout",
       "text": [
        "[stdout:0] hi, number 3.14159265359\n",
        "[stdout:1] hi, number 3.14159265359\n",
        "[stdout:2] hi, number 3.14159265359\n",
        "[stdout:3] hi, number 3.14159265359\n",
        "[stdout:4] hi, number 3.14159265359\n",
        "[stdout:5] hi, number 3.14159265359\n",
        "[stdout:6] hi, number 3.14159265359\n",
        "[stdout:7] hi, number 3.14159265359\n"
       ]
      }
     ],
     "prompt_number": 96
    },
    {
     "cell_type": "code",
     "collapsed": false,
     "input": [
      "def simulpos(s, t, players):\n",
      "    positions = []\n",
      "    for player in players:\n",
      "        positions.append([player['center'][0] + player['amp'][0]*np.cos(2*np.pi*t/player['T']), \n",
      "                          player['center'][1] + player['amp'][1]*np.cos(2*np.pi*t/player['T']),\n",
      "                          player['center'][2] + player['amp'][2]*np.cos(2*np.pi*t/player['T'])])   \n",
      "    return positions\n",
      "\n",
      "def simul(p, players = [{'center': [6., 6, 1.5], 'amp': [.3,1.,.1] , 'T': 5.}], \n",
      "          dt=.013, t_stop=40., s_VP = 1):\n",
      "    time = np.arange(0., t_stop, dt)\n",
      "    N_time = len(time)\n",
      "    n_players = len(players)\n",
      "    positions_ = np.zeros((3, n_players, N_time))\n",
      "    particles = np.zeros((6, p['N'], N_time))\n",
      "    s = Scenario(p['N'], scenario, volume, [VPs[s_VP]], p, calibration)\n",
      "    for i_t, t in enumerate(time):\n",
      "        positions = simulpos(s, t, players)\n",
      "        positions_[:, :, i_t] = np.array(positions).T\n",
      "        s.do_scenario(positions=positions, dt=dt)\n",
      "        #print p['N'], VPs, particles[:, :, i_t].shape, s.particles[0:6, s_VP*s.N:(s_VP+1)*s.N].shape, s.particles.shape, s.N\n",
      "        particles[:, :, i_t] = s.particles[0:6, :]\n",
      "\n",
      "positions_, particles = simul(p)"
     ],
     "language": "python",
     "metadata": {},
     "outputs": [
      {
       "ename": "TypeError",
       "evalue": "'NoneType' object is not iterable",
       "output_type": "pyerr",
       "traceback": [
        "\u001b[0;31m---------------------------------------------------------------------------\u001b[0m\n\u001b[0;31mTypeError\u001b[0m                                 Traceback (most recent call last)",
        "\u001b[0;32m<ipython-input-98-8151bd67ddf9>\u001b[0m in \u001b[0;36m<module>\u001b[0;34m()\u001b[0m\n\u001b[1;32m     22\u001b[0m         \u001b[0mparticles\u001b[0m\u001b[0;34m[\u001b[0m\u001b[0;34m:\u001b[0m\u001b[0;34m,\u001b[0m \u001b[0;34m:\u001b[0m\u001b[0;34m,\u001b[0m \u001b[0mi_t\u001b[0m\u001b[0;34m]\u001b[0m \u001b[0;34m=\u001b[0m \u001b[0ms\u001b[0m\u001b[0;34m.\u001b[0m\u001b[0mparticles\u001b[0m\u001b[0;34m[\u001b[0m\u001b[0;36m0\u001b[0m\u001b[0;34m:\u001b[0m\u001b[0;36m6\u001b[0m\u001b[0;34m,\u001b[0m \u001b[0;34m:\u001b[0m\u001b[0;34m]\u001b[0m\u001b[0;34m\u001b[0m\u001b[0m\n\u001b[1;32m     23\u001b[0m \u001b[0;34m\u001b[0m\u001b[0m\n\u001b[0;32m---> 24\u001b[0;31m \u001b[0mpositions_\u001b[0m\u001b[0;34m,\u001b[0m \u001b[0mparticles\u001b[0m \u001b[0;34m=\u001b[0m \u001b[0msimul\u001b[0m\u001b[0;34m(\u001b[0m\u001b[0mp\u001b[0m\u001b[0;34m)\u001b[0m\u001b[0;34m\u001b[0m\u001b[0m\n\u001b[0m",
        "\u001b[0;31mTypeError\u001b[0m: 'NoneType' object is not iterable"
       ]
      }
     ],
     "prompt_number": 98
    },
    {
     "cell_type": "code",
     "collapsed": false,
     "input": [
      "v.scatter('x',range(64))\n",
      "%px y = [i**10 for i in x]"
     ],
     "language": "python",
     "metadata": {},
     "outputs": [],
     "prompt_number": 99
    },
    {
     "cell_type": "code",
     "collapsed": false,
     "input": [
      "y = v.gather('y')\n",
      "print y"
     ],
     "language": "python",
     "metadata": {},
     "outputs": [
      {
       "output_type": "stream",
       "stream": "stdout",
       "text": [
        "<AsyncMapResult: gather>\n"
       ]
      }
     ],
     "prompt_number": 100
    },
    {
     "cell_type": "code",
     "collapsed": false,
     "input": [
      "y\n"
     ],
     "language": "python",
     "metadata": {},
     "outputs": [
      {
       "metadata": {},
       "output_type": "pyout",
       "prompt_number": 101,
       "text": [
        "<AsyncMapResult: gather>"
       ]
      }
     ],
     "prompt_number": 101
    },
    {
     "cell_type": "code",
     "collapsed": false,
     "input": [],
     "language": "python",
     "metadata": {},
     "outputs": []
    }
   ],
   "metadata": {}
  }
 ]
}