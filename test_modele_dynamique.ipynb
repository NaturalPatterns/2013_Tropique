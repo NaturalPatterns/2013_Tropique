{
 "metadata": {
  "name": ""
 },
 "nbformat": 3,
 "nbformat_minor": 0,
 "worksheets": [
  {
   "cells": [
    {
     "cell_type": "code",
     "collapsed": false,
     "input": [
      "%pylab inline\n",
      "from parametres import sliders, VPs, volume, p, kinects_network_config, d_x, d_y, d_z, scenario, calibration, DEBUG\n",
      "from modele_dynamique import Scenario\n",
      "events = [0, 0, 0, 0, 0, 0, 0, 0] # 8 types d'\u00e9v\u00e9n\u00e9ments\n",
      "print p['N']"
     ],
     "language": "python",
     "metadata": {},
     "outputs": []
    },
    {
     "cell_type": "code",
     "collapsed": false,
     "input": [
      "def simulpos(s, t, players):\n",
      "    positions = []\n",
      "    for player in players:\n",
      "        positions.append([player['center'][0] + player['amp'][0]*cos(2*pi*t/player['T']), \n",
      "                          player['center'][1] + player['amp'][1]*cos(2*pi*t/player['T']),\n",
      "                          player['center'][2] + player['amp'][2]*cos(2*pi*t/player['T'])])   \n",
      "    return positions"
     ],
     "language": "python",
     "metadata": {},
     "outputs": []
    },
    {
     "cell_type": "code",
     "collapsed": false,
     "input": [
      "def simul(p, players, dt=.01, t_stop=60., s_VP = 0, display=True):\n",
      "    time = np.arange(0., t_stop, dt)\n",
      "    N_time = len(time)\n",
      "    n_players = len(players)\n",
      "    positions_ = np.zeros((3, n_players, N_time))\n",
      "    particles = np.zeros((6, p['N'], N_time))\n",
      "    s = Scenario(p['N'], scenario, volume, [VPs[0]], p, calibration)\n",
      "    for i_t, t in enumerate(time):\n",
      "        positions = simulpos(s, t, players)\n",
      "        positions_[:, :, i_t] = np.array(positions).T\n",
      "        s.do_scenario(positions=positions, events=events, dt=dt)\n",
      "        particles[:, :, i_t] = s.particles[0:6, s_VP*s.N:(s_VP+1)*s.N]\n",
      "    if display:\n",
      "        fig = figure(figsize=(18,10))\n",
      "        T_step = N_time / 100\n",
      "        for i_ax, axe in zip(range(3), ['x', 'y', 'z']):\n",
      "            ax = fig.add_subplot(3, 1, 1+ i_ax)\n",
      "            ax.plot(time, positions_[i_ax, :, :].T)\n",
      "            ax.plot(time[::T_step], particles[i_ax, :, ::T_step].T, alpha=.5)\n",
      "            #ax.errorbar(time[::T_step], particles[i_ax, :, ::T_step].mean(axis=0), particles[i_ax, :, ::T_step].std(axis=0))\n",
      "            #ax.errorbar(time[::T_step], particles[i_ax + 3, :, ::T_step].mean(axis=0), particles[i_ax + 3, :, ::T_step].std(axis=0))\n",
      "            ax.set_ylabel(axe)\n",
      "        ax.set_xlabel('time')\n",
      "    return positions_, particles"
     ],
     "language": "python",
     "metadata": {},
     "outputs": []
    },
    {
     "cell_type": "heading",
     "level": 2,
     "metadata": {},
     "source": [
      "stabilit\u00e9 avec param\u00e8tres"
     ]
    },
    {
     "cell_type": "code",
     "collapsed": false,
     "input": [
      "roger = [10., 6, 1.5]\n",
      "players = [{'center': roger, 'amp': [.3,1.,.1] , 'T': 5.}]\n",
      "print p['damp']\n",
      "pos, particles = simul(p, players)"
     ],
     "language": "python",
     "metadata": {},
     "outputs": []
    },
    {
     "cell_type": "code",
     "collapsed": false,
     "input": [
      "p_ = p.copy()\n",
      "p_['damp'] = .0\n",
      "print p_['damp']\n",
      "pos, particles = simul(p_, players)"
     ],
     "language": "python",
     "metadata": {},
     "outputs": []
    },
    {
     "cell_type": "code",
     "collapsed": false,
     "input": [
      "p_ = p.copy()\n",
      "p_['G_repulsion'] = 0.\n",
      "pos, particles = simul(p_, players)"
     ],
     "language": "python",
     "metadata": {},
     "outputs": []
    },
    {
     "cell_type": "heading",
     "level": 2,
     "metadata": {},
     "source": [
      "players instables"
     ]
    },
    {
     "cell_type": "markdown",
     "metadata": {},
     "source": [
      "On d\u00e9finit un player seul qui se d\u00e9place devant le videoprojecteur, \u00e0 une distance"
     ]
    },
    {
     "cell_type": "code",
     "collapsed": false,
     "input": [
      "print VPs[0]"
     ],
     "language": "python",
     "metadata": {},
     "outputs": []
    },
    {
     "cell_type": "code",
     "collapsed": false,
     "input": [
      "for distance in linspace(4., 0., 8, endpoint=False):\n",
      "    print 'Distance du player au VP = ', distance\n",
      "    players = [{'center': [VPs[0]['x'] + distance, VPs[0]['y'], VPs[0]['z']], 'amp': [.3, 1., .1] , 'T': 5.}]\n",
      "    pos, particles = simul(p, players)\n",
      "    show()"
     ],
     "language": "python",
     "metadata": {},
     "outputs": []
    },
    {
     "cell_type": "code",
     "collapsed": false,
     "input": [],
     "language": "python",
     "metadata": {},
     "outputs": []
    },
    {
     "cell_type": "code",
     "collapsed": false,
     "input": [],
     "language": "python",
     "metadata": {},
     "outputs": []
    },
    {
     "cell_type": "code",
     "collapsed": false,
     "input": [],
     "language": "python",
     "metadata": {},
     "outputs": []
    },
    {
     "cell_type": "code",
     "collapsed": false,
     "input": [],
     "language": "python",
     "metadata": {},
     "outputs": []
    },
    {
     "cell_type": "code",
     "collapsed": false,
     "input": [],
     "language": "python",
     "metadata": {},
     "outputs": []
    },
    {
     "cell_type": "code",
     "collapsed": false,
     "input": [],
     "language": "python",
     "metadata": {},
     "outputs": []
    },
    {
     "cell_type": "code",
     "collapsed": false,
     "input": [],
     "language": "python",
     "metadata": {},
     "outputs": []
    },
    {
     "cell_type": "code",
     "collapsed": false,
     "input": [],
     "language": "python",
     "metadata": {},
     "outputs": []
    },
    {
     "cell_type": "heading",
     "level": 2,
     "metadata": {},
     "source": [
      "multi players"
     ]
    },
    {
     "cell_type": "code",
     "collapsed": false,
     "input": [
      "players = [{'center': [10., 6, 1.5], 'amp': [.3,1.,.1] , 'T': 5.}, {'center': [10., 9, 1.5], 'amp': [.3,1.,.1] , 'T': 5.}]\n",
      "pos, particles = simul(p, players)"
     ],
     "language": "python",
     "metadata": {},
     "outputs": []
    },
    {
     "cell_type": "markdown",
     "metadata": {},
     "source": [
      "\u00e9tude de la stabilit\u00e9 avec une autre personne"
     ]
    },
    {
     "cell_type": "code",
     "collapsed": false,
     "input": [
      "for distance in linspace(4., 0., 8, endpoint=False):\n",
      "    players = [{'center': [10., 6, 1.5], 'amp': [.3,1.,.1] , 'T': 15.}]\n",
      "    print 'Distance du player au VP = ', distance\n",
      "    players.append({'center': [VPs[0]['x'] + distance, VPs[0]['y'], VPs[0]['z']], 'amp': [.3, 1., .1] , 'T': 5.})\n",
      "    pos, particles = simul(p, players)\n",
      "    show()"
     ],
     "language": "python",
     "metadata": {},
     "outputs": []
    },
    {
     "cell_type": "markdown",
     "metadata": {},
     "source": [
      "\u00e9tude de la stabilit\u00e9 avec quatre autres personnes"
     ]
    },
    {
     "cell_type": "code",
     "collapsed": false,
     "input": [
      "for distance in linspace(4., 0., 8, endpoint=False):\n",
      "    players = [{'center': [10., 6, 1.5], 'amp': [1.3,1.,.1] , 'T': 15.}, \n",
      "               {'center': [10., 9, 1.5], 'amp': [2.3,1.,.1] , 'T': 3.},\n",
      "               {'center': [5., 3, 1.9], 'amp': [4.3,1.,.1] , 'T': 15.}, \n",
      "               {'center': [15., 9, 1.], 'amp': [5.3,1.,.1] , 'T': 3.}]\n",
      "    print 'Distance du player au VP = ', distance\n",
      "    players.append({'center': [VPs[0]['x'] + distance, VPs[0]['y'], VPs[0]['z']], 'amp': [.3, 1., .1] , 'T': 5.})\n",
      "    pos, particles = simul(p, players)\n",
      "    show()"
     ],
     "language": "python",
     "metadata": {},
     "outputs": []
    },
    {
     "cell_type": "code",
     "collapsed": false,
     "input": [],
     "language": "python",
     "metadata": {},
     "outputs": []
    }
   ],
   "metadata": {}
  }
 ]
}